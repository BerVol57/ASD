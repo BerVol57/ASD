{
 "cells": [
  {
   "cell_type": "markdown",
   "id": "6a9fe857-8de2-4ce8-b830-4a03029345e0",
   "metadata": {},
   "source": [
    "<h2 align=\"center\"><b>Комп'ютерний практикум №2</b></h2>\n",
    "<h5 align=\"right\">Роботу виконав Беркута Володимир</h5>\n",
    "<p><b>Мета роботи:</b> познайомитися з роботою поширених методів сортування, з критеріями та методикою їх порівняння.</br></p>\n",
    "\n",
    "<h3 align=\"center\"><b>2.1. Теоретичні відомості</b></h3>\n",
    "<p>&nbsp;&nbsp;&nbsp;&nbsp;&nbsp;&nbsp; Серед критеріїв, за якими порівнюються методи сортування мвсивів, розрізняються:</p>\n",
    "<ol>\n",
    "    <dd>\n",
    "        <li><b>C</b>(від <b>compare</b>) - кількість порівнянь ключів між собою;</li>\n",
    "        <li><b>M</b>(від <b>move</b>) - кількість операцій перезапису елементів з місця на місце у оперативний пам'яті або кількість обмінів;</li>\n",
    "        <li><b>T</b>(від <b>time</b>) - загальний час роботи процедури.</li>\n",
    "    </dd>\n",
    "</ol>\n",
    "\n",
    "$$C_{сер}=\\sum_{i=2}^{n} \\dfrac{i}{2}=\\dfrac{(2+3+...+n)}{2}=\\dfrac{(2+n)(n-1)}{4}=O(n^2)$$\n",
    "$$C_{min}=n-1 ; \\qquad C_{max}=\\dfrac{(n-1)n}{2}.$$\n",
    "$$M_{min}=0; \\qquad M_{max}=\\dfrac{(n-1)n}{2}; \\qquad M_{сер}=\\dfrac{(n-1)n}{4}$$"
   ]
  },
  {
   "cell_type": "markdown",
   "id": "ad5cabd9-d787-43c6-9683-d0420c562a6c",
   "metadata": {},
   "source": [
    "<h2 align=\"center\"><b>Умови завдань:</b></h2>\n",
    "<h5 align=\"right\">Варіант №1</h5>\n",
    "<p style=\"margin-left: 50px\">Простий метод сортування: \"Вставками\"; Складний метод сортування: \"Метод Шелла\".</p>"
   ]
  },
  {
   "cell_type": "code",
   "execution_count": 73,
   "id": "7f2b9508-a31a-4f97-ac04-309d700e5673",
   "metadata": {},
   "outputs": [],
   "source": [
    "import ipywidgets as widgets\n",
    "import numpy as np\n",
    "import time"
   ]
  },
  {
   "cell_type": "code",
   "execution_count": 74,
   "id": "062d96bc-2053-4295-9f4c-593f2a6f3718",
   "metadata": {},
   "outputs": [],
   "source": [
    "def insertion_sort(l):\n",
    "    n = len(l)\n",
    "    c = 0\n",
    "    m = 0\n",
    "    \n",
    "    \n",
    "    for i in range(1, n):\n",
    "        for j in range(i-1, -1, -1):\n",
    "            c += 1\n",
    "            if l[j]<l[i] or l[j]==l[i]:\n",
    "                m += 1\n",
    "                l.insert(j+1, l[i])\n",
    "                l.pop(i+1)\n",
    "                break\n",
    "            elif j==0 and (l[j]>l[i] or l[j]==l[i]):\n",
    "                m += 1\n",
    "                l.insert(j, l[i])\n",
    "                l.pop(i+1)\n",
    "                \n",
    "    return c, m"
   ]
  },
  {
   "cell_type": "code",
   "execution_count": 75,
   "id": "895db63f-1d59-469f-bf56-1696992eb285",
   "metadata": {},
   "outputs": [
    {
     "name": "stdout",
     "output_type": "stream",
     "text": [
      "[1, 4, 13, 40]\n"
     ]
    }
   ],
   "source": [
    "def knuth(n):\n",
    "    res = []\n",
    "    element = 1\n",
    "    k = 1\n",
    "    while element < n//3:\n",
    "        element = int( (3 ** k - 1)/2 )\n",
    "        res.append(element)\n",
    "        k += 1\n",
    "    return res\n",
    "\n",
    "print(knuth(100))"
   ]
  },
  {
   "cell_type": "code",
   "execution_count": 76,
   "id": "3b70d831-ee2f-47fe-a736-57293f3ff58a",
   "metadata": {},
   "outputs": [],
   "source": [
    "def shell_sort(l):\n",
    "    c, m = 0, 0\n",
    "    Knuths_increments = knuth(len(l))[::-1]\n",
    "    for ki in Knuths_increments:\n",
    "        for i in range(ki, len(l)):\n",
    "            j = i\n",
    "            while j>=ki and l[j-ki] > l[j]:\n",
    "                c += 1\n",
    "                l[j-ki], l[j] = l[j], l[j-ki]\n",
    "                m += 1\n",
    "                j -= ki\n",
    "            c += 1\n",
    "    return c, m"
   ]
  },
  {
   "cell_type": "code",
   "execution_count": 77,
   "id": "bca42e3e-000f-47ff-b935-9c1f4881e1d8",
   "metadata": {},
   "outputs": [],
   "source": [
    "def get_random(n):\n",
    "    return list( np.random.randint(-n, n, n) )"
   ]
  },
  {
   "cell_type": "code",
   "execution_count": 124,
   "id": "2a2365f5-c2c7-4022-9dab-91c881e75df9",
   "metadata": {},
   "outputs": [
    {
     "name": "stdout",
     "output_type": "stream",
     "text": [
      "[-53, 92, -35, -30, 47, -82, 38, -5, 76, 4, -83, -3, -64, -79, -39, 60, 84, -61, 69, -87, -81, -76, 70, 1, -27, -93, 76, -43, 75, -87, -21, 46, -70, 82, -99, 99, -27, 11, -95, -73, -63, 26, -13, 81, -83, -67, 43, 60, 11, -83, 17, 38, -77, -27, -32, -65, 80, 99, 60, -69, 43, 52, 65, -40, -49, 47, -11, -40, -8, 79, -2, -29, 47, -5, 80, 55, 12, -71, 3, -56, 28, -8, -78, -58, -87, 68, -76, 90, -81, 36, -89, -18, -53, -45, 43, -85, 8, -32, 30, 43]\n"
     ]
    }
   ],
   "source": [
    "lst_100 = get_random(100)\n",
    "print(f\"{lst_100}\")\n",
    "\n",
    "# Insertion sort\n",
    "start = time.time()\n",
    "S_c_100, S_m_100 = insertion_sort(lst_100)\n",
    "S_time_100 = time.time() - start\n",
    "\n",
    "start = time.time()\n",
    "S_c_1000, S_m_1000 = insertion_sort(get_random(1000))\n",
    "S_time_1000 = time.time() - start\n",
    "\n",
    "start = time.time()\n",
    "S_c_10000, S_m_10000 = insertion_sort(get_random(10000))\n",
    "S_time_10000 = time.time() - start\n",
    "\n",
    "# Shell sort\n",
    "start = time.time()\n",
    "C_c_100, C_m_100 = shell_sort(get_random(100))\n",
    "C_time_100 = time.time() - start\n",
    "\n",
    "start = time.time()\n",
    "C_c_1000, C_m_1000 = shell_sort(get_random(1000))\n",
    "C_time_1000 = time.time() - start\n",
    "\n",
    "start = time.time()\n",
    "C_c_10000, C_m_10000 = shell_sort(get_random(10000))\n",
    "C_time_10000 = time.time() - start\n"
   ]
  },
  {
   "cell_type": "code",
   "execution_count": 130,
   "id": "b7b85c6f-903c-4a46-a024-e91e48711f86",
   "metadata": {},
   "outputs": [
    {
     "data": {
      "application/vnd.jupyter.widget-view+json": {
       "model_id": "f7e3cb2b4889495aaa677d7b0c593a25",
       "version_major": 2,
       "version_minor": 0
      },
      "text/plain": [
       "HTML(value='\\n<table border=\"1\">\\n  <thead>\\n    <tr>\\n      <th rowspan=\"3\">№</th>\\n      <th colspan=\"5\">Мет…"
      ]
     },
     "metadata": {},
     "output_type": "display_data"
    }
   ],
   "source": [
    "out = widgets.HTML()\n",
    "out.value = f\"\"\"\n",
    "<table border=\"1\">\n",
    "  <thead>\n",
    "    <tr>\n",
    "      <th rowspan=\"3\">№</th>\n",
    "      <th colspan=\"5\">Метод вставками</th>\n",
    "      <th colspan=\"5\">Метод Шелла</th>\n",
    "    </tr>\n",
    "    <tr>\n",
    "      <th colspan=\"2\">К-ть копіювань (M)</th>\n",
    "      <th colspan=\"2\">К-ть порівнянь (C)</th>\n",
    "      <th rowspan=\"2\">Час (T)</th>\n",
    "      <th colspan=\"2\">К-ть копіювань (M)</th>\n",
    "      <th colspan=\"2\">К-ть порівнянь (C)</th>\n",
    "      <th rowspan=\"2\">Час (T)</th>\n",
    "    </tr>\n",
    "    <tr>\n",
    "      <th>Теор.</th>\n",
    "      <th>Експерим.</th>\n",
    "      <th>Теор.</th>\n",
    "      <th>Експерим.</th>\n",
    "      <th>Теор.</th>\n",
    "      <th>Експерим.</th>\n",
    "      <th>Теор.</th>\n",
    "      <th>Експерим.</th>\n",
    "    </tr>\n",
    "  </thead>\n",
    "  <tbody>\n",
    "    <tr>\n",
    "      <td>100</td>\n",
    "      <td>{(100-1)*100/4}</td>\n",
    "      <td>{S_m_100}</td>\n",
    "      <td>{sum(range(2, 101))/2}</td>\n",
    "      <td>{S_c_100}</td>\n",
    "      <td>{round(S_time_100, 5)}</td>\n",
    "      <td>{int(100**(6/5))}</td>\n",
    "      <td>{C_m_100}</td>\n",
    "      <td>{int(100**(6/5))}</td>\n",
    "      <td>{C_c_100}</td>\n",
    "      <td>{C_time_100}</td>\n",
    "    </tr>\n",
    "    <tr>\n",
    "      <td>1000</td>\n",
    "      <td>{(1000-1)*1000/4}</td>\n",
    "      <td>{S_m_1000}</td>\n",
    "      <td>{sum(range(2, 1001))/2}</td>\n",
    "      <td>{S_c_1000}</td>\n",
    "      <td>{round(S_time_1000, 5)}</td>\n",
    "      <td>{int(1000**(6/5))}</td>\n",
    "      <td>{C_m_1000}</td>\n",
    "      <td>{int(1000**(6/5))}</td>\n",
    "      <td>{C_c_1000}</td>\n",
    "      <td>{C_time_1000}</td>\n",
    "    </tr>\n",
    "    <tr>\n",
    "      <td>10000</td>\n",
    "      <td>{(10000-1)*10000/4}</td>\n",
    "      <td>{S_m_10000}</td>\n",
    "      <td>{sum(range(2, 10001))/2}</td>\n",
    "      <td>{S_c_10000}</td>\n",
    "      <td>{round(S_time_10000, 5)}</td>\n",
    "      <td>{int(10000**(6/5))}</td>\n",
    "      <td>{C_m_10000}</td>\n",
    "      <td>{int(10000**(6/5))}</td>\n",
    "      <td>{C_c_10000}</td>\n",
    "      <td>{round(C_time_10000, 5)}</td>\n",
    "    </tr>\n",
    "  </tbody>\n",
    "</table>\n",
    "\"\"\"\n",
    "display(out)"
   ]
  }
 ],
 "metadata": {
  "kernelspec": {
   "display_name": "Python 3 (ipykernel)",
   "language": "python",
   "name": "python3"
  },
  "language_info": {
   "codemirror_mode": {
    "name": "ipython",
    "version": 3
   },
   "file_extension": ".py",
   "mimetype": "text/x-python",
   "name": "python",
   "nbconvert_exporter": "python",
   "pygments_lexer": "ipython3",
   "version": "3.12.1"
  }
 },
 "nbformat": 4,
 "nbformat_minor": 5
}
