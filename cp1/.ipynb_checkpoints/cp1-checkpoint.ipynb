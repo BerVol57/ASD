{
 "cells": [
  {
   "cell_type": "markdown",
   "id": "f72ea1b8-3472-48cf-a9bc-163d455bb595",
   "metadata": {},
   "source": [
    "<h2 align=\"center\"><b>Комп'ютерний практикум №1</b></h2>\n",
    "<h5 align=\"right\">Роботу виконав Беркута Володимир</h5>\n",
    "<p><b>Мета роботи:</b> отримати навички роботи з рекурсивними алгоритмами.</br></p>\n",
    "\n",
    "<h3 align=\"center\"><b>1.1. Теоретичні відомості</b></h3>\n",
    "<p>&nbsp;&nbsp;&nbsp;&nbsp;&nbsp;&nbsp; Рекурсія відноситься до одного з фундаментальних понять у математичних та комп’ютерних науках. В мовах програмування рекурсивною програмою називають програму, яка звертається сама до себе (сама себе викликає). Рекурсивна програма не може викликати себе до нескінченності, оскільки у цьому випадку вона ніколи не завершиться. Другою важливою особливістю рекурсивної програми є умова завершення, що дозволяє програмі припинити себе викликати.</p>\n",
    "<ol>\n",
    "    <dl><b>&nbsp;&nbsp;&nbsp;&nbsp;&nbsp;&nbsp; Принципові властивості рекурсивного визначення:</b></dl>\n",
    "    <dd>\n",
    "        <li><b>визначення об'єкту самого через себе, але з іншими параметрами;</b></li>\n",
    "        <li><b>завершеність ланцюжка визначень на деякому значенні аргументів.</b></li>\n",
    "    </dd>\n",
    "</ol>\n",
    "\n",
    "<p>&nbsp;&nbsp;&nbsp;&nbsp;&nbsp;&nbsp; Необхідність використання рекурсії виникає при реалізації динамічних структур даних, таких як дерева, стеки, черги. Для реалізації рекурсивних алгоритмів передбачена можливість створення рекурсивних функцій. Рекурсивна функція являє собою функцію, у тілі якої здійснюється виклик цієї ж функції.</p>"
   ]
  },
  {
   "cell_type": "markdown",
   "id": "2a387e92-d709-4a5a-ab63-feef60cf8a70",
   "metadata": {},
   "source": [
    "<h2 align=\"center\"><b>Умови завдань:</b></h2>\n",
    "<h5 align=\"right\">Варіант №1</h5>\n",
    "<h3>Завдання №2</h3>\n",
    "<p style=\"margin-left: 50px\">Знайти НСД двох цілих чисел за алгоритмом Евкліда.</p>"
   ]
  },
  {
   "cell_type": "code",
   "execution_count": 1,
   "id": "0d0722c0-0f9c-4dbf-920e-8ca38d3d20e0",
   "metadata": {},
   "outputs": [],
   "source": [
    "def gcd(num_1: int, num_2: int) -> int:\n",
    "\n",
    "    # Для від'ємних чисел\n",
    "    num_1 = abs(num_1)\n",
    "    num_2 = abs(num_2)\n",
    "    \n",
    "    a = max(num_1, num_2)\n",
    "    b = min(num_1, num_2)\n",
    "    \n",
    "    if a%b == 0: \n",
    "        return b\n",
    "    elif a%b != 0:\n",
    "        return gcd(b, a%b)"
   ]
  },
  {
   "cell_type": "code",
   "execution_count": 2,
   "id": "e477ccda-0217-435e-a0b8-72da4384e3e0",
   "metadata": {},
   "outputs": [
    {
     "name": "stdout",
     "output_type": "stream",
     "text": [
      "71, [Правильна відповідь: 71]\n",
      "375, [Правильна відповідь: 375]\n",
      "73, [Правильна відповідь: 73]\n",
      "61, [Правильна відповідь: 61]\n",
      "237, [Правильна відповідь: 237]\n"
     ]
    }
   ],
   "source": [
    "# 1 207 і 1 349 (відповідь:71);\n",
    "print(f\"{gcd(1207, -1349)}, [Правильна відповідь: 71]\")\n",
    "\n",
    "# 6 375 і 9 000 (відповідь:375);\n",
    "print(f\"{gcd(-6375, 9000)}, [Правильна відповідь: 375]\")\n",
    "\n",
    "# 8 249 і 2 263 (відповідь:73);\n",
    "print(f\"{gcd(-8249, -2263)}, [Правильна відповідь: 73]\")\n",
    "\n",
    "# 3 599 і 5 429 (відповідь:61);\n",
    "print(f\"{gcd(3599, 5429)}, [Правильна відповідь: 61]\")\n",
    "\n",
    "# 10 665 і 5 214 (відповідь:237);\n",
    "print(f\"{gcd(10665, 5214)}, [Правильна відповідь: 237]\")"
   ]
  },
  {
   "cell_type": "markdown",
   "id": "85508832-0b4e-46d6-9c94-605b52a296cd",
   "metadata": {},
   "source": [
    "<h3>Завдання №14</h3>\n",
    "<p style=\"margin-left: 50px\">Реалізувати алгоритм для розв’язання задачі «Ханойські вежі». Виписати послідовність ходів для перекладання n дисків вежі (n = 2; 3; 4; 5 дисків, використати онлайн гру).</p>"
   ]
  },
  {
   "cell_type": "code",
   "execution_count": 3,
   "id": "6747ea15-e634-44e6-92d6-e9402ba67004",
   "metadata": {},
   "outputs": [],
   "source": [
    "def tower_of_hanoi(n: int) -> int:\n",
    "    if n==1:\n",
    "        return 1\n",
    "    else:\n",
    "        return 1+2*tower_of_hanoi(n-1)"
   ]
  },
  {
   "cell_type": "code",
   "execution_count": 4,
   "id": "83c0355f-8ead-4c94-b3f2-b46efd6fa95d",
   "metadata": {},
   "outputs": [
    {
     "name": "stdout",
     "output_type": "stream",
     "text": [
      "63, [Правильна відповідь: 63]\n",
      "127, [Правильна відповідь: 127]\n",
      "255, [Правильна відповідь: 255]\n"
     ]
    }
   ],
   "source": [
    "print(f\"{tower_of_hanoi(6)}, [Правильна відповідь: 63]\")\n",
    "print(f\"{tower_of_hanoi(7)}, [Правильна відповідь: 127]\")\n",
    "print(f\"{tower_of_hanoi(8)}, [Правильна відповідь: 255]\")"
   ]
  },
  {
   "cell_type": "markdown",
   "id": "e97c2958-48d6-4f75-9aac-cf87e85cc249",
   "metadata": {},
   "source": [
    "<p style=\"margin-left: 50px\">Реалізація поперднього завдання з візуалізацією(пародією на візуалізацію)</p>"
   ]
  },
  {
   "cell_type": "code",
   "execution_count": 5,
   "id": "9fcee4d0-1a82-4c17-b091-605f4c1fa662",
   "metadata": {},
   "outputs": [],
   "source": [
    "import ipywidgets as widgets\n",
    "import time\n",
    "\n",
    "\n",
    "# Функція для відображення таблички(візуал)\n",
    "def data(a: int, b: int, c: int):\n",
    "    return f'<table style=\"width:50%; text-align: center;\">    <tr>    <td>Стрижень A</td>    <td>Стрижень B</td>    <td>Стрижень C</td>  </tr> <tr style=\"border:1px solid black;\">    <td style=\"border:1px solid black;\">{a}</td>    <td style=\"border:1px solid black;\">{b}</td>    <td style=\"border:1px solid black;\">{c}</td>  </tr> </table>'\n",
    "\n",
    "\n",
    "# Функція переміщення одного диску\n",
    "def move1(start, finish, model, widget):\n",
    "    model[finish].append(model[start].pop(0))\n",
    "    time.sleep(1)\n",
    "    widget.value = data(len(model[0]), len(model[1]), len(model[2]))\n",
    "    \n",
    "\n",
    "# Функція переміщення n кількості дисків\n",
    "def moven(start, add, finish, model, n, widget):\n",
    "    if n == 1:\n",
    "        move1(start, finish, model, widget)\n",
    "    else:\n",
    "        moven(start, finish, add, model, n-1, widget)\n",
    "        move1(start, finish, model, widget)\n",
    "        moven(add, start, finish, model, n-1, widget)\n",
    "\n",
    "\n",
    "# Функція фінального відображення\n",
    "def vis_tower_of_hanoi(n: int):\n",
    "    start_rod = list(range(1, n+1))\n",
    "    model=[start_rod, [], []]\n",
    "    out = widgets.HTML()\n",
    "    display(out)\n",
    "    out.value = data(len(model[0]), len(model[1]), len(model[2]))\n",
    "    moven(0, 1, 2, model, n, out)"
   ]
  },
  {
   "cell_type": "code",
   "execution_count": 6,
   "id": "9950ceec-abbf-4fad-85e2-46bd7a4f4d62",
   "metadata": {},
   "outputs": [
    {
     "data": {
      "application/vnd.jupyter.widget-view+json": {
       "model_id": "c7606919fe25482fbb97a8d020f8a602",
       "version_major": 2,
       "version_minor": 0
      },
      "text/plain": [
       "HTML(value='')"
      ]
     },
     "metadata": {},
     "output_type": "display_data"
    }
   ],
   "source": [
    "vis_tower_of_hanoi(5)"
   ]
  },
  {
   "attachments": {
    "ed5ff8bb-812c-4165-af0f-d3924fb6226a.png": {
     "image/png": "[encoded data removed]"
    }
   },
   "cell_type": "markdown",
   "id": "758d732c-8b2a-48e5-bd95-3a2f456d9925",
   "metadata": {},
   "source": [
    "*В гітхабі не грузить, для звіту прикріплений скрін *\n",
    "![image.png](attachment:ed5ff8bb-812c-4165-af0f-d3924fb6226a.png)\n"
   ]
  },
  {
   "cell_type": "code",
   "execution_count": null,
   "id": "e6b95e98-aaae-4281-be92-2ecd861c9371",
   "metadata": {},
   "outputs": [],
   "source": []
  }
 ],
 "metadata": {
  "kernelspec": {
   "display_name": "Python 3 (ipykernel)",
   "language": "python",
   "name": "python3"
  },
  "language_info": {
   "codemirror_mode": {
    "name": "ipython",
    "version": 3
   },
   "file_extension": ".py",
   "mimetype": "text/x-python",
   "name": "python",
   "nbconvert_exporter": "python",
   "pygments_lexer": "ipython3",
   "version": "3.12.1"
  }
 },
 "nbformat": 4,
 "nbformat_minor": 5
}
